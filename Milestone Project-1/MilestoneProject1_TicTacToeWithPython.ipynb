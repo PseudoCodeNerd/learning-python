{
 "cells": [
  {
   "cell_type": "markdown",
   "metadata": {},
   "source": [
    "# Python Milestone Project-1\n",
    "## Re-Creating Tic-Tac-Toe \n",
    "#### @author: [PseudoCodeNerd](http://github.com/PseudoCodeNerd) <br>\n",
    "_Madhav S. Sharma_"
   ]
  },
  {
   "cell_type": "code",
   "execution_count": 1,
   "metadata": {},
   "outputs": [],
   "source": [
    "from IPython.display import clear_output\n",
    "\n",
    "def display_board(board):\n",
    "    clear_output()\n",
    "    print(\" \" + \"📍\" + \" \" + \"📍\")\n",
    "    print(board[7] + \"📍\" + board[8] + \"📍\" + board[9])\n",
    "    print(\" \" + \"📍\" + \" \" + \"📍\")\n",
    "    print(\"〰️〰️〰️\")\n",
    "    print(\" \" + \"📍\" + \" \" + \"📍\")\n",
    "    print(board[4] + \"📍\" + board[5] + \"📍\" + board[6])\n",
    "    print(\" \" + \"📍\" + \" \" + \"📍\")\n",
    "    print(\"〰️〰️〰️\")\n",
    "    print(\" \" + \"📍\" + \" \" + \"📍\")\n",
    "    print(board[1] + \"📍\" + board[2] + \"📍\" + board[3])\n",
    "    print(\" \" + \"📍\" + \" \" + \"📍\")"
   ]
  },
  {
   "cell_type": "code",
   "execution_count": 2,
   "metadata": {},
   "outputs": [
    {
     "name": "stdout",
     "output_type": "stream",
     "text": [
      " 📍 📍\n",
      "X📍O📍X\n",
      " 📍 📍\n",
      "〰️〰️〰️\n",
      " 📍 📍\n",
      "O📍X📍O\n",
      " 📍 📍\n",
      "〰️〰️〰️\n",
      " 📍 📍\n",
      "X📍O📍X\n",
      " 📍 📍\n"
     ]
    }
   ],
   "source": [
    "test_board=['','X','O','X','O','X','O','X','O','X']\n",
    "display_board(test_board)"
   ]
  },
  {
   "cell_type": "code",
   "execution_count": 3,
   "metadata": {},
   "outputs": [
    {
     "name": "stdout",
     "output_type": "stream",
     "text": [
      " 📍 📍\n",
      "8📍9📍10\n",
      " 📍 📍\n",
      "〰️〰️〰️\n",
      " 📍 📍\n",
      "5📍6📍7\n",
      " 📍 📍\n",
      "〰️〰️〰️\n",
      " 📍 📍\n",
      "2📍3📍4\n",
      " 📍 📍\n"
     ]
    }
   ],
   "source": [
    "blank_board=['1','2','3','4','5','6','7','8','9','10']\n",
    "display_board(blank_board) #blank-board telling the user where exactly the position are on a TIC-TAC-TOE"
   ]
  },
  {
   "cell_type": "code",
   "execution_count": 4,
   "metadata": {},
   "outputs": [],
   "source": [
    "def player_input():\n",
    "    sign = ''\n",
    "    \n",
    "    while not (sign == 'X' or sign == 'O'):\n",
    "        sign = input('Player 1: Do you want to be X or O? ').upper()\n",
    "\n",
    "    if sign == 'X':\n",
    "        return ('X', 'O')\n",
    "    else:\n",
    "        return ('O', 'X')"
   ]
  },
  {
   "cell_type": "code",
   "execution_count": 5,
   "metadata": {},
   "outputs": [
    {
     "name": "stdout",
     "output_type": "stream",
     "text": [
      "Player 1: Do you want to be X or O? X\n"
     ]
    },
    {
     "data": {
      "text/plain": [
       "('X', 'O')"
      ]
     },
     "execution_count": 5,
     "metadata": {},
     "output_type": "execute_result"
    }
   ],
   "source": [
    "player_input()"
   ]
  },
  {
   "cell_type": "code",
   "execution_count": 6,
   "metadata": {},
   "outputs": [],
   "source": [
    "def place_sign(board, sign, position):\n",
    "    board[position] = sign"
   ]
  },
  {
   "cell_type": "code",
   "execution_count": 7,
   "metadata": {},
   "outputs": [
    {
     "name": "stdout",
     "output_type": "stream",
     "text": [
      " 📍 📍\n",
      "X📍O📍X\n",
      " 📍 📍\n",
      "〰️〰️〰️\n",
      " 📍 📍\n",
      "O📍X📍O\n",
      " 📍 📍\n",
      "〰️〰️〰️\n",
      " 📍 📍\n",
      "X📍O📍X\n",
      " 📍 📍\n"
     ]
    }
   ],
   "source": [
    "place_sign(test_board, \"X\", 1)\n",
    "display_board(test_board)\n"
   ]
  },
  {
   "cell_type": "code",
   "execution_count": 8,
   "metadata": {},
   "outputs": [],
   "source": [
    "def haveUwon(board, sign):\n",
    "    return ((board[7] == sign and board[8] == sign and board[9] == sign) or # across the top\n",
    "    (board[4] == sign and board[5] == sign and board[6] == sign) or # across the middle\n",
    "    (board[1] == sign and board[2] == sign and board[3] == sign) or # across the bottom\n",
    "    (board[7] == sign and board[4] == sign and board[1] == sign) or # down the middle\n",
    "    (board[8] == sign and board[5] == sign and board[2] == sign) or # down the middle\n",
    "    (board[9] == sign and board[6] == sign and board[3] == sign) or # down the right side\n",
    "    (board[7] == sign and board[5] == sign and board[3] == sign) or # diagonal\n",
    "    (board[9] == sign and board[5] == sign and board[1] == sign)) # diagonal"
   ]
  },
  {
   "cell_type": "code",
   "execution_count": 9,
   "metadata": {},
   "outputs": [
    {
     "data": {
      "text/plain": [
       "True"
      ]
     },
     "execution_count": 9,
     "metadata": {},
     "output_type": "execute_result"
    }
   ],
   "source": [
    "haveUwon(test_board, \"X\")"
   ]
  },
  {
   "cell_type": "code",
   "execution_count": 10,
   "metadata": {},
   "outputs": [],
   "source": [
    "import random\n",
    "\n",
    "def choose_first():\n",
    "    if random.randint(0, 1) == 0:\n",
    "        return 'Player 2'\n",
    "    else:\n",
    "        return 'Player 1'"
   ]
  },
  {
   "cell_type": "code",
   "execution_count": 11,
   "metadata": {},
   "outputs": [],
   "source": [
    "def emptyOrnot(board, position):\n",
    "    return (board[position] == \" \")"
   ]
  },
  {
   "cell_type": "code",
   "execution_count": 12,
   "metadata": {},
   "outputs": [
    {
     "data": {
      "text/plain": [
       "False"
      ]
     },
     "execution_count": 12,
     "metadata": {},
     "output_type": "execute_result"
    }
   ],
   "source": [
    "emptyOrnot(test_board, 1)"
   ]
  },
  {
   "cell_type": "code",
   "execution_count": 13,
   "metadata": {},
   "outputs": [],
   "source": [
    "def isItFull(board):\n",
    "    for i in range(1,10):\n",
    "        if emptyOrnot(board, i):\n",
    "            return False\n",
    "    return True"
   ]
  },
  {
   "cell_type": "code",
   "execution_count": 14,
   "metadata": {},
   "outputs": [
    {
     "data": {
      "text/plain": [
       "True"
      ]
     },
     "execution_count": 14,
     "metadata": {},
     "output_type": "execute_result"
    }
   ],
   "source": [
    "isItFull(test_board)"
   ]
  },
  {
   "cell_type": "code",
   "execution_count": 15,
   "metadata": {},
   "outputs": [],
   "source": [
    "def nextChoice(board):\n",
    "    nextPos = 0\n",
    "    \n",
    "    while nextPos not in [1,2,3,4,5,6,7,8,9] or not emptyOrnot(board, nextPos):\n",
    "        nextPos = int(input(\"Enter number from 1-9 to mark your sign there : \"))\n",
    "        \n",
    "    return nextPos"
   ]
  },
  {
   "cell_type": "code",
   "execution_count": 16,
   "metadata": {},
   "outputs": [],
   "source": [
    "def replay():\n",
    "    \n",
    "    return input('Do you want to play again? Enter Yes or No: ').lower().startswith('y')"
   ]
  },
  {
   "cell_type": "markdown",
   "metadata": {},
   "source": [
    "THE REAL SHIT BEGINS HERE!"
   ]
  },
  {
   "cell_type": "code",
   "execution_count": 17,
   "metadata": {},
   "outputs": [
    {
     "name": "stdout",
     "output_type": "stream",
     "text": [
      " 📍 📍\n",
      "8📍9📍10\n",
      " 📍 📍\n",
      "〰️〰️〰️\n",
      " 📍 📍\n",
      "5📍6📍7\n",
      " 📍 📍\n",
      "〰️〰️〰️\n",
      " 📍 📍\n",
      "2📍3📍4\n",
      " 📍 📍\n"
     ]
    }
   ],
   "source": [
    "display_board(blank_board)"
   ]
  },
  {
   "cell_type": "code",
   "execution_count": 19,
   "metadata": {},
   "outputs": [
    {
     "name": "stdout",
     "output_type": "stream",
     "text": [
      " 📍 📍\n",
      " 📍 📍O\n",
      " 📍 📍\n",
      "〰️〰️〰️\n",
      " 📍 📍\n",
      " 📍X📍O\n",
      " 📍 📍\n",
      "〰️〰️〰️\n",
      " 📍 📍\n",
      "X📍X📍O\n",
      " 📍 📍\n",
      "🎊🎉 Congratulations! You have won the game! 🎊🎉\n",
      "Do you want to play again? Enter Yes or No: NO\n"
     ]
    }
   ],
   "source": [
    "print(\"🎉 Welcome to Madhav's TIC-TAC-TOE Program 🎉\\n\\n➡️So, you must be familiar how the game works...\\n➡️Above displayed is the grid, in which you have to enter X'S and O's.\\n\\n😀Hope You Enjoy!\")\n",
    "\n",
    "while True:\n",
    "    the_board= [\" \"]*10\n",
    "    p1_marker, p2_marker = player_input()\n",
    "    turn = choose_first()\n",
    "    print(turn + ' will go first.')\n",
    "    \n",
    "    play_game = input('Are you ready to play? Enter Yes or No.')\n",
    "    \n",
    "    if play_game.lower()[0] == 'y':\n",
    "        game_on = True\n",
    "    else:\n",
    "        game_on = False\n",
    "        \n",
    "    while game_on:\n",
    "        \n",
    "        if turn == 'Player 1':\n",
    "            \n",
    "            display_board(the_board)\n",
    "            position=nextChoice(the_board)\n",
    "            place_sign(the_board, p1_marker, position)\n",
    "            \n",
    "            if haveUwon(the_board, p1_marker):\n",
    "                display_board(the_board)\n",
    "                print('🎊🎉 Congratulations! You have won the game! 🎊🎉')\n",
    "                game_on = False\n",
    "                \n",
    "            else:\n",
    "                \n",
    "                if isItFull(the_board):\n",
    "                    display_board(the_board)\n",
    "                    print('🤞 The game is a draw! 🤞')\n",
    "                    break\n",
    "                else:\n",
    "                    turn = 'Player 2'\n",
    "        else:\n",
    "                \n",
    "            display_board(the_board)\n",
    "            position=nextChoice(the_board)\n",
    "            place_sign(the_board, p2_marker, position)\n",
    "                \n",
    "            if haveUwon(the_board, p2_marker):\n",
    "                display_board(the_board)\n",
    "                print('🎊🎉 Congratulations Player 2 👱🏽! You have won the game! 🎊🎉')\n",
    "                game_on = False\n",
    "                    \n",
    "            else:\n",
    "                \n",
    "                if isItFull(the_board):\n",
    "                    display_board(the_board)\n",
    "                    print('🤞 The game is a draw! 🤞')\n",
    "                    break\n",
    "                else:\n",
    "                    turn = 'Player 1'\n",
    "                    \n",
    "    if not replay():\n",
    "        break\n",
    "                "
   ]
  },
  {
   "cell_type": "code",
   "execution_count": null,
   "metadata": {},
   "outputs": [],
   "source": []
  },
  {
   "cell_type": "code",
   "execution_count": null,
   "metadata": {},
   "outputs": [],
   "source": []
  }
 ],
 "metadata": {
  "kernelspec": {
   "display_name": "Python 3",
   "language": "python",
   "name": "python3"
  },
  "language_info": {
   "codemirror_mode": {
    "name": "ipython",
    "version": 3
   },
   "file_extension": ".py",
   "mimetype": "text/x-python",
   "name": "python",
   "nbconvert_exporter": "python",
   "pygments_lexer": "ipython3",
   "version": "3.7.1"
  }
 },
 "nbformat": 4,
 "nbformat_minor": 2
}
